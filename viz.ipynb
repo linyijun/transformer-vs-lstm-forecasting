{
 "cells": [
  {
   "cell_type": "code",
   "execution_count": 3,
   "id": "d793dbff-59b0-48fb-84d9-a4dcfb89e762",
   "metadata": {},
   "outputs": [],
   "source": [
    "from tqdm import tqdm\n",
    "import matplotlib.pyplot as plt\n",
    "from generate_time_series import generate_df"
   ]
  },
  {
   "cell_type": "code",
   "execution_count": 5,
   "id": "770be6c8-70e0-4f30-b1a5-0cad0b6ffd24",
   "metadata": {},
   "outputs": [
    {
     "name": "stdout",
     "output_type": "stream",
     "text": [
      "1.4.9\n",
      "1.9.1+cu102\n"
     ]
    }
   ],
   "source": [
    "import pytorch_lightning\n",
    "import torch\n",
    "print(pytorch_lightning.__version__)\n",
    "print(torch.__version__)"
   ]
  },
  {
   "cell_type": "code",
   "execution_count": 20,
   "id": "b04e7070-5935-4f7b-b8cb-b4b4b37f2d7f",
   "metadata": {},
   "outputs": [
    {
     "data": {
      "text/plain": [
       "[]"
      ]
     },
     "execution_count": 20,
     "metadata": {},
     "output_type": "execute_result"
    }
   ],
   "source": [
    "auxiliary_feat = [\"day_of_week\", \"day_of_month\", \"day_of_year\", \"month\", \"week_of_year\", \"year\"]\n",
    "auxiliary_feat = [auxiliary_feat[int(i)] for i in list(\"\")]\n",
    "auxiliary_feat"
   ]
  },
  {
   "cell_type": "code",
   "execution_count": 15,
   "id": "d07110c4-2cdc-4263-be8c-bc1007d520a1",
   "metadata": {},
   "outputs": [
    {
     "name": "stdout",
     "output_type": "stream",
     "text": [
      "0\n",
      "1\n",
      "2\n",
      "3\n",
      "4\n",
      "5\n",
      "6\n",
      "0\n",
      "1\n",
      "2\n",
      "3\n",
      "4\n",
      "5\n",
      "6\n",
      "0\n"
     ]
    },
    {
     "data": {
      "image/png": "[encoded data removed]",
      "text/plain": [
       "<Figure size 432x288 with 1 Axes>"
      ]
     },
     "metadata": {
      "needs_background": "light"
     },
     "output_type": "display_data"
    },
    {
     "data": {
      "text/plain": [
       "[0, 1, 2, 3, 4, 5, 6, 7, 8, 9, 10, 11, 12, 13, 14]"
      ]
     },
     "execution_count": 15,
     "metadata": {},
     "output_type": "execute_result"
    }
   ],
   "source": [
    "\n",
    "import numpy as np\n",
    "\n",
    "x = [i for i in range(15)]\n",
    "y = []\n",
    "for i in x:\n",
    "    y.append(np.cos(i * 2 * np.pi / 7 ))\n",
    "    print(i % 7)\n",
    "       \n",
    "fig = plt.figure()\n",
    "plt.plot(x, y)\n",
    "plt.show()\n",
    "x\n",
    "    "
   ]
  },
  {
   "cell_type": "code",
   "execution_count": 3,
   "id": "615d6751-27f3-4560-a5cc-031b0ec512fb",
   "metadata": {},
   "outputs": [
    {
     "data": {
      "text/plain": [
       "0.10578089509666766"
      ]
     },
     "execution_count": 3,
     "metadata": {},
     "output_type": "execute_result"
    }
   ],
   "source": [
    "import random\n",
    "\n",
    "random.random()"
   ]
  },
  {
   "cell_type": "code",
   "execution_count": null,
   "id": "2e570e4d-31ec-40dd-9330-e28816097010",
   "metadata": {},
   "outputs": [],
   "source": []
  }
 ],
 "metadata": {
  "kernelspec": {
   "display_name": "Python 3",
   "language": "python",
   "name": "python3"
  },
  "language_info": {
   "codemirror_mode": {
    "name": "ipython",
    "version": 3
   },
   "file_extension": ".py",
   "mimetype": "text/x-python",
   "name": "python",
   "nbconvert_exporter": "python",
   "pygments_lexer": "ipython3",
   "version": "3.8.5"
  }
 },
 "nbformat": 4,
 "nbformat_minor": 5
}
