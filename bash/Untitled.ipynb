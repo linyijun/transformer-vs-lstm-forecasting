{
 "cells": [
  {
   "cell_type": "code",
   "execution_count": 1,
   "id": "464b2b3a-796a-4400-a0cc-b15c55db81bd",
   "metadata": {},
   "outputs": [],
   "source": [
    "file_name = 'train_transformer.sh'"
   ]
  },
  {
   "cell_type": "code",
   "execution_count": 2,
   "id": "872d2de8-0d46-4206-991c-0a0af95e2ce9",
   "metadata": {},
   "outputs": [],
   "source": [
    "f = open(file_name, 'r')\n",
    "\n",
    "count = 0\n",
    "header = []\n",
    "\n",
    "commands = []\n",
    "\n",
    "for line in f:\n",
    "    \n",
    "    if line.startswith('python'):\n",
    "        if len(commands) == 3:\n",
    "\n",
    "            with open(f'train_transformer{count}.sh', 'w') as out:\n",
    "                \n",
    "                for l in header[:16]:\n",
    "                    out.write(l)\n",
    "                for l in commands:\n",
    "                    out.write(l)\n",
    "                \n",
    "            count += 1\n",
    "            commands = [line]\n",
    "            \n",
    "        else:\n",
    "            commands.append(line)\n",
    "\n",
    "    else:\n",
    "        header.append(line)\n",
    "\n",
    "        \n",
    "with open(f'train_transformer{count}.sh', 'w') as out:\n",
    "                \n",
    "    for l in header[:16]:\n",
    "        out.write(l)\n",
    "    for l in commands:\n",
    "        out.write(l)        \n",
    "        "
   ]
  },
  {
   "cell_type": "code",
   "execution_count": 33,
   "id": "ddc650a2-de79-46ef-91e9-ad74159ee30b",
   "metadata": {},
   "outputs": [],
   "source": []
  },
  {
   "cell_type": "code",
   "execution_count": null,
   "id": "65afd221-8f2b-4d8e-87ac-c15f9e23eede",
   "metadata": {},
   "outputs": [],
   "source": []
  }
 ],
 "metadata": {
  "kernelspec": {
   "display_name": "Python 3",
   "language": "python",
   "name": "python3"
  },
  "language_info": {
   "codemirror_mode": {
    "name": "ipython",
    "version": 3
   },
   "file_extension": ".py",
   "mimetype": "text/x-python",
   "name": "python",
   "nbconvert_exporter": "python",
   "pygments_lexer": "ipython3",
   "version": "3.8.5"
  }
 },
 "nbformat": 4,
 "nbformat_minor": 5
}
